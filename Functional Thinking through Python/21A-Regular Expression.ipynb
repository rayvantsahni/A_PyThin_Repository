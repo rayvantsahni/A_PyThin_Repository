{
 "cells": [
  {
   "cell_type": "markdown",
   "metadata": {},
   "source": [
    "# match() function"
   ]
  },
  {
   "cell_type": "code",
   "execution_count": 3,
   "metadata": {},
   "outputs": [
    {
     "name": "stdout",
     "output_type": "stream",
     "text": [
      "sells is not present in the string\n"
     ]
    }
   ],
   "source": [
    "import re\n",
    "str = \"She sells sea shells on the sea shore\"\n",
    "pattern1 = \"sells\"\n",
    "if re.match(pattern1, str):\n",
    "    print(\"Match Found\")\n",
    "else:\n",
    "    print(pattern1, \"is not present in the string\")   "
   ]
  },
  {
   "cell_type": "code",
   "execution_count": 4,
   "metadata": {},
   "outputs": [
    {
     "name": "stdout",
     "output_type": "stream",
     "text": [
      "Match Found\n"
     ]
    }
   ],
   "source": [
    "pattern2 = \"She\"\n",
    "if re.match(pattern2, str):\n",
    "    print(\"Match Found\")\n",
    "else:\n",
    "    print(pattern1, \"is not present in the string\")   "
   ]
  },
  {
   "cell_type": "markdown",
   "metadata": {},
   "source": [
    "# search() function"
   ]
  },
  {
   "cell_type": "code",
   "execution_count": 5,
   "metadata": {},
   "outputs": [
    {
     "name": "stdout",
     "output_type": "stream",
     "text": [
      "Match Found\n"
     ]
    }
   ],
   "source": [
    "import re\n",
    "str = \"She sells sea shells on the sea shore\"\n",
    "pattern3 = \"sells\"\n",
    "if re.search(pattern3, str):\n",
    "    print(\"Match Found\")\n",
    "else:\n",
    "    print(pattern1, \"is not present in the string\")   "
   ]
  },
  {
   "cell_type": "markdown",
   "metadata": {},
   "source": [
    "# sub() function"
   ]
  },
  {
   "cell_type": "code",
   "execution_count": 6,
   "metadata": {},
   "outputs": [
    {
     "name": "stdout",
     "output_type": "stream",
     "text": [
      "She sells ocean shells on the ocean shore ocean ocean\n"
     ]
    }
   ],
   "source": [
    "import re\n",
    "str = \"She sells sea shells on the sea shore sea sea\"\n",
    "pattern4 = \"sea\"\n",
    "repl = \"ocean\"\n",
    "new_str = re.sub(pattern4, repl, str)\n",
    "print(new_str)"
   ]
  },
  {
   "cell_type": "markdown",
   "metadata": {},
   "source": [
    "# findall() function"
   ]
  },
  {
   "cell_type": "code",
   "execution_count": 7,
   "metadata": {},
   "outputs": [
    {
     "name": "stdout",
     "output_type": "stream",
     "text": [
      "LXI 2013 VXI 2015 VDI 2014 "
     ]
    }
   ],
   "source": [
    "import re\n",
    "pattern5 = r\"[a-zA-Z]+ \\d+\"\n",
    "mat = re.findall(pattern5,\"LXI 2013, VXI 2015, VDI 2014,Maruti Suzuki Cars in India\")\n",
    "for i in mat:\n",
    "    print(i,end=\" \")"
   ]
  },
  {
   "cell_type": "markdown",
   "metadata": {},
   "source": [
    "# find a word in the String"
   ]
  },
  {
   "cell_type": "code",
   "execution_count": 8,
   "metadata": {},
   "outputs": [
    {
     "name": "stdout",
     "output_type": "stream",
     "text": [
      "{'Amit': '22', 'Ram': '33', 'Sam': '44', 'John': '21'}\n"
     ]
    }
   ],
   "source": [
    "import re\n",
    "nameAge = '''Amit is 22 and Ram is 33\n",
    "Sam is 44 and John is 21\n",
    "'''\n",
    "\n",
    "age = re.findall(r'\\d{1,3}',nameAge)\n",
    "name = re.findall(r'[A-Z][a-z]*',nameAge)\n",
    "\n",
    "ageD = {}\n",
    "x=0\n",
    "for i in name:\n",
    "    ageD[i]=age[x]\n",
    "    x+=1\n",
    "    \n",
    "print(ageD)\n"
   ]
  },
  {
   "cell_type": "markdown",
   "metadata": {},
   "source": [
    "# find a range of character"
   ]
  },
  {
   "cell_type": "code",
   "execution_count": 9,
   "metadata": {},
   "outputs": [
    {
     "name": "stdout",
     "output_type": "stream",
     "text": [
      "hat\n",
      "mat\n"
     ]
    }
   ],
   "source": [
    "import re\n",
    "str = \"sat, hat, pat, mat\"\n",
    "\n",
    "s = re.findall(\"[h-m]at\",str)\n",
    "for i in s:\n",
    "    print(i)"
   ]
  },
  {
   "cell_type": "code",
   "execution_count": 10,
   "metadata": {},
   "outputs": [
    {
     "name": "stdout",
     "output_type": "stream",
     "text": [
      "Sat\n",
      "pat\n"
     ]
    }
   ],
   "source": [
    "import re\n",
    "str = \"Sat, hat, pat, mat\"\n",
    "\n",
    "s = re.findall(\"[^h-m]at\",str)\n",
    "for i in s:\n",
    "    print(i)"
   ]
  },
  {
   "cell_type": "markdown",
   "metadata": {},
   "source": [
    "# replace a string"
   ]
  },
  {
   "cell_type": "code",
   "execution_count": 11,
   "metadata": {},
   "outputs": [
    {
     "name": "stdout",
     "output_type": "stream",
     "text": [
      "hat food pat mat\n"
     ]
    }
   ],
   "source": [
    "import re\n",
    "str = \"hat rat pat mat\"\n",
    "\n",
    "regex = re.compile(\"rat\")\n",
    "s = regex.sub(\"food\", str)\n",
    "print(s)"
   ]
  },
  {
   "cell_type": "markdown",
   "metadata": {},
   "source": [
    "# matches a single character"
   ]
  },
  {
   "cell_type": "code",
   "execution_count": 12,
   "metadata": {},
   "outputs": [
    {
     "name": "stdout",
     "output_type": "stream",
     "text": [
      "Matches:  5\n"
     ]
    }
   ],
   "source": [
    "import re\n",
    "str = \"12345\"\n",
    "print(\"Matches: \",len(re.findall(\"\\d\",str)))"
   ]
  },
  {
   "cell_type": "code",
   "execution_count": 13,
   "metadata": {},
   "outputs": [
    {
     "name": "stdout",
     "output_type": "stream",
     "text": [
      "Matches:  0\n"
     ]
    }
   ],
   "source": [
    "import re\n",
    "str = \"12345\"\n",
    "print(\"Matches: \",len(re.findall(\"\\D\",str)))"
   ]
  },
  {
   "cell_type": "code",
   "execution_count": 14,
   "metadata": {},
   "outputs": [
    {
     "name": "stdout",
     "output_type": "stream",
     "text": [
      "Matches:  1\n"
     ]
    }
   ],
   "source": [
    "import re\n",
    "str = \"12345\"\n",
    "print(\"Matches: \",len(re.findall(\"\\d{5}\",str)))"
   ]
  },
  {
   "cell_type": "code",
   "execution_count": 17,
   "metadata": {},
   "outputs": [
    {
     "name": "stdout",
     "output_type": "stream",
     "text": [
      "Matches:  3\n"
     ]
    }
   ],
   "source": [
    "import re\n",
    "str = \"123 1234 12345 123456 1234567\"\n",
    "print(\"Matches: \",len(re.findall(\"\\d{5,7}\",str)))"
   ]
  },
  {
   "cell_type": "markdown",
   "metadata": {},
   "source": [
    "# Phone number verification\n",
    "\n",
    "3 starting digits and - sign\n",
    "\n",
    "3 middle digits and - sign\n",
    "\n",
    "4 digit in the end"
   ]
  },
  {
   "cell_type": "code",
   "execution_count": 1,
   "metadata": {},
   "outputs": [
    {
     "name": "stdout",
     "output_type": "stream",
     "text": [
      "valid phone number\n",
      "not valid numner\n"
     ]
    }
   ],
   "source": [
    "# \\w [a-zA-Z0-9]\n",
    "#\\W [^a-zA-Z0-9]\n",
    "# \\s [\\f\\n\\t\\v\\r]\n",
    "# \\S [^\\f\\n\\t\\v\\r]\n",
    "import re\n",
    "phone = \"412-345-1234\"\n",
    "phone1 = \"412-345-123\"\n",
    "\n",
    "if re.search(\"\\w{3}-\\w{3}-\\w{4}\",phone):\n",
    "    print(\"valid phone number\")\n",
    "    \n",
    "if re.search(\"\\w{3}-\\w{3}-\\w{4}\",phone1):\n",
    "    print(\"valid phone number\")\n",
    "else:\n",
    "    print(\"not valid numner\")"
   ]
  },
  {
   "cell_type": "code",
   "execution_count": 7,
   "metadata": {},
   "outputs": [
    {
     "name": "stdout",
     "output_type": "stream",
     "text": [
      "valid name\n"
     ]
    }
   ],
   "source": [
    "name=\"Am Sharma\"\n",
    "if re.search(\"\\w{2,20}\\s\\w{2,20}\",name):\n",
    "    print(\"valid name\")"
   ]
  },
  {
   "cell_type": "markdown",
   "metadata": {},
   "source": [
    "# email verification\n",
    "\n",
    "1-20 lowercase and uppercase letters, number, plus ._%+-\n",
    "\n",
    "An @ sysmbol\n",
    "\n",
    "2 to 20 lowercase and uppercase letter numbers, plus .-\n",
    "\n",
    "A peroid\n",
    "\n",
    "2 to 3 lowercase and uppercase letter"
   ]
  },
  {
   "cell_type": "code",
   "execution_count": 114,
   "metadata": {},
   "outputs": [
    {
     "name": "stdout",
     "output_type": "stream",
     "text": [
      "Email Matches: 1\n"
     ]
    }
   ],
   "source": [
    "import re\n",
    "email = \"sk@aol.com md@com sam@ @sec.com  dc@.com\"\n",
    "print(\"Email Matches:\", len(re.findall(\"[\\w._%+-]{1,20}@[\\w.-]{2,20}.[A-Za-z]{2,3}\",email)))"
   ]
  }
 ],
 "metadata": {
  "kernelspec": {
   "display_name": "Python 3",
   "language": "python",
   "name": "python3"
  },
  "language_info": {
   "codemirror_mode": {
    "name": "ipython",
    "version": 3
   },
   "file_extension": ".py",
   "mimetype": "text/x-python",
   "name": "python",
   "nbconvert_exporter": "python",
   "pygments_lexer": "ipython3",
   "version": "3.6.5"
  }
 },
 "nbformat": 4,
 "nbformat_minor": 2
}
