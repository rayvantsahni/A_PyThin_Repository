{
 "cells": [
  {
   "cell_type": "markdown",
   "metadata": {},
   "source": [
    "## Basic tuple operations\n",
    "\n",
    "- A `tuple` is just a comma-separated sequence of elements, or surrounded by parentheses if this is required to avoid ambiguity\n",
    "- A `tuple` element can be any Python object\n",
    "- A `tuple` is immutable, so you cannot `append()`, `insert()`, `pop()`, or `remove()` elements\n",
    "- But you can concatenate (`+`), which creates a new `tuple`"
   ]
  },
  {
   "cell_type": "code",
   "execution_count": 3,
   "metadata": {},
   "outputs": [
    {
     "name": "stdout",
     "output_type": "stream",
     "text": [
      "('John', 24)\n"
     ]
    }
   ],
   "source": [
    "t = 'John', 24\n",
    "t + ('Berlin',)\n",
    "print(t)"
   ]
  },
  {
   "cell_type": "code",
   "execution_count": 4,
   "metadata": {},
   "outputs": [
    {
     "data": {
      "text/plain": [
       "('John', 24)"
      ]
     },
     "execution_count": 4,
     "metadata": {},
     "output_type": "execute_result"
    }
   ],
   "source": [
    "t"
   ]
  },
  {
   "cell_type": "markdown",
   "metadata": {},
   "source": [
    "## Working with sequences\n",
    "\n",
    "*Works with all built-in sequences*\n",
    "\n",
    "Python offers a clean syntax to perform common operations and checks with sequences:\n",
    "\n",
    "- Loop through elements with `for`\n",
    "- Check if an element exists with `in`\n",
    "- Repeat with `*`\n",
    "- Check number of elements with `len()`\n",
    "- Etc."
   ]
  },
  {
   "cell_type": "code",
   "execution_count": 4,
   "metadata": {},
   "outputs": [
    {
     "data": {
      "text/plain": [
       "9"
      ]
     },
     "execution_count": 4,
     "metadata": {},
     "output_type": "execute_result"
    }
   ],
   "source": [
    "len(3 * t)"
   ]
  }
 ],
 "metadata": {
  "kernelspec": {
   "display_name": "Python 3",
   "language": "python",
   "name": "python3"
  },
  "language_info": {
   "codemirror_mode": {
    "name": "ipython",
    "version": 3
   },
   "file_extension": ".py",
   "mimetype": "text/x-python",
   "name": "python",
   "nbconvert_exporter": "python",
   "pygments_lexer": "ipython3",
   "version": "3.6.5"
  }
 },
 "nbformat": 4,
 "nbformat_minor": 2
}
