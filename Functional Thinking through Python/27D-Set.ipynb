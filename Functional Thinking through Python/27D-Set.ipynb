{
 "cells": [
  {
   "cell_type": "markdown",
   "metadata": {},
   "source": [
    "## Basic set operations\n",
    "\n",
    "- A `set` is defined using curly braces (`{}`) with comma-separated elements\n",
    "- Elements can be any hashable Python object"
   ]
  },
  {
   "cell_type": "code",
   "execution_count": 4,
   "metadata": {},
   "outputs": [
    {
     "name": "stdout",
     "output_type": "stream",
     "text": [
      "{'Whale', 'Cat', 'Human', 'Dog'}\n"
     ]
    }
   ],
   "source": [
    "mammals = {'Human', 'Whale', 'Dog', 'Cat'}\n",
    "print(mammals)"
   ]
  },
  {
   "cell_type": "markdown",
   "metadata": {},
   "source": [
    "You can add and remove elements. Adding an element that was already in the `set` does nothing."
   ]
  },
  {
   "cell_type": "code",
   "execution_count": 5,
   "metadata": {},
   "outputs": [
    {
     "name": "stdout",
     "output_type": "stream",
     "text": [
      "{'Whale', 'Cat', 'Mouse', 'Human'}\n"
     ]
    }
   ],
   "source": [
    "mammals.add('Mouse')\n",
    "mammals.remove('Dog')\n",
    "print(mammals)"
   ]
  },
  {
   "cell_type": "markdown",
   "metadata": {},
   "source": [
    "## Set theory\n",
    "\n",
    "The standard mathematical operations of set theory are supported.\n",
    "\n",
    "- `s1.union(s2)` or `s1 | s2`\n",
    "- `s1.intersection(s2)` or `s1 & s2`\n",
    "- `s1.difference(s2)` or `s1 - s2`\n",
    "- `s1.issubset(s2)` or `s1 < s2`\n",
    "- `s1.issuperset(s2)` or `s1 > s2`\n",
    "- etc.\n"
   ]
  },
  {
   "cell_type": "code",
   "execution_count": 1,
   "metadata": {},
   "outputs": [
    {
     "name": "stdout",
     "output_type": "stream",
     "text": [
      "False\n",
      "{'Whale', 'Human'}\n"
     ]
    }
   ],
   "source": [
    "mammals = {'Human', 'Whale', 'Dog', 'Cat'}\n",
    "pets = {'Dog', 'Cat', 'Goldfish'}\n",
    "\n",
    "print(mammals > pets)\n",
    "print(mammals - pets)\n"
   ]
  },
  {
   "cell_type": "code",
   "execution_count": null,
   "metadata": {
    "collapsed": true
   },
   "outputs": [],
   "source": []
  }
 ],
 "metadata": {
  "kernelspec": {
   "display_name": "Python 3",
   "language": "python",
   "name": "python3"
  },
  "language_info": {
   "codemirror_mode": {
    "name": "ipython",
    "version": 3
   },
   "file_extension": ".py",
   "mimetype": "text/x-python",
   "name": "python",
   "nbconvert_exporter": "python",
   "pygments_lexer": "ipython3",
   "version": "3.6.5"
  }
 },
 "nbformat": 4,
 "nbformat_minor": 2
}
