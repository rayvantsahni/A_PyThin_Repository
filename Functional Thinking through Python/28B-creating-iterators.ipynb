{
 "cells": [
  {
   "cell_type": "markdown",
   "metadata": {},
   "source": [
    "## Creating your own Iterator\n",
    "\n",
    "An `Iterator` is a class that implements (at least) the following methods:\n",
    "\n",
    "- `__iter__()`\n",
    "- `__next__()`\n",
    "\n",
    "The __iter__ method is what makes an object iterable. Behind the scenes, the iter function calls __iter__ method on the given object.\n",
    "\n",
    "The return value of __iter__ is an iterator. It should have a next method and raise StopIteration when there are no more elements."
   ]
  },
  {
   "cell_type": "code",
   "execution_count": 1,
   "metadata": {},
   "outputs": [],
   "source": [
    "import random\n",
    "\n",
    "\n",
    "class RandomIterator:\n",
    "    \n",
    "    def __init__(self, *elements):\n",
    "        \n",
    "        self._elements = list(elements)\n",
    "        \n",
    "    def __iter__(self):\n",
    "        \n",
    "        random.shuffle(self._elements)\n",
    "        self._cursor = 0\n",
    "        return self\n",
    "    \n",
    "    def __next__(self):\n",
    "        \n",
    "        if self._cursor >= len(self._elements):\n",
    "            raise StopIteration()\n",
    "        e = self._elements[self._cursor]\n",
    "        self._cursor += 1\n",
    "        return e\n"
   ]
  },
  {
   "cell_type": "markdown",
   "metadata": {},
   "source": [
    "Now let's see our `RandomIterator` in action!"
   ]
  },
  {
   "cell_type": "code",
   "execution_count": 5,
   "metadata": {},
   "outputs": [
    {
     "name": "stdout",
     "output_type": "stream",
     "text": [
      "3\n",
      "1\n",
      "2\n",
      "--\n",
      "1\n",
      "3\n",
      "2\n",
      "--\n",
      "2\n",
      "1\n",
      "3\n",
      "--\n",
      "3\n",
      "1\n",
      "2\n"
     ]
    }
   ],
   "source": [
    "i = RandomIterator(1, 2, 3)\n",
    "for e in i:\n",
    "    print(e)\n",
    "print('--')\n",
    "for e in i:\n",
    "    print(e)\n",
    "print('--')\n",
    "for e in i:\n",
    "    print(e)\n",
    "print('--')\n",
    "for e in i:\n",
    "    print(e)\n"
   ]
  },
  {
   "cell_type": "code",
   "execution_count": null,
   "metadata": {},
   "outputs": [],
   "source": []
  }
 ],
 "metadata": {
  "kernelspec": {
   "display_name": "Python 3",
   "language": "python",
   "name": "python3"
  },
  "language_info": {
   "codemirror_mode": {
    "name": "ipython",
    "version": 3
   },
   "file_extension": ".py",
   "mimetype": "text/x-python",
   "name": "python",
   "nbconvert_exporter": "python",
   "pygments_lexer": "ipython3",
   "version": "3.6.5"
  }
 },
 "nbformat": 4,
 "nbformat_minor": 2
}
